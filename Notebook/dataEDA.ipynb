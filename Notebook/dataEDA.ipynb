{
 "cells": [
  {
   "cell_type": "code",
   "execution_count": null,
   "metadata": {},
   "outputs": [],
   "source": [
    "import os\n",
    "import sys\n",
    "\n",
    "sys.path.append(\"../\")\n",
    "\n",
    "import pandas as pd\n",
    "import numpy as np\n",
    "\n",
    "import matplotlib.pyplot as plt\n",
    "\n",
    "from utils import count_stage\n",
    "\n",
    "from natsort import natsorted"
   ]
  },
  {
   "cell_type": "code",
   "execution_count": null,
   "metadata": {},
   "outputs": [],
   "source": [
    "stages = []\n",
    "HR = []\n",
    "step = []\n",
    "for i in range(31):\n",
    "    PATH = os.path.join(\"../data/padding\", f\"c{i+1}_data.csv\")\n",
    "    data = pd.read_csv(PATH)\n",
    "    data = data.iloc[:,1:]\n",
    "    stages.append(data[\"psg_status\"].to_numpy())\n",
    "    HR.append(data[\"heart_rate\"].to_numpy())\n",
    "    step.append(data[\"step_count\"].to_numpy())"
   ]
  },
  {
   "cell_type": "code",
   "execution_count": null,
   "metadata": {},
   "outputs": [],
   "source": [
    "subj_stage = count_stage(stages)"
   ]
  },
  {
   "cell_type": "code",
   "execution_count": null,
   "metadata": {},
   "outputs": [],
   "source": [
    "subj_stage/30"
   ]
  },
  {
   "cell_type": "code",
   "execution_count": null,
   "metadata": {},
   "outputs": [],
   "source": [
    "plt.figure(figsize=(5, 5))\n",
    "\n",
    "index = [\"Wake\", \"N1\", \"N2\", \"N3\", \"REM\"]\n",
    "\n",
    "plt.bar(index, subj_stage.T.sum(axis=1))\n",
    "plt.title(\"Total Sleep Stage\", size=18)\n",
    "plt.xlabel(\"Sleep Stage\")\n",
    "plt.ylabel(\"Number of sample (sec)\")\n",
    "plt.show()"
   ]
  },
  {
   "cell_type": "code",
   "execution_count": null,
   "metadata": {},
   "outputs": [],
   "source": [
    "fig, ax = plt.subplots(4, 8, figsize=(40, 20))\n",
    "\n",
    "j = 0\n",
    "i = 0\n",
    "\n",
    "for subj in range(len(subj_stage)):\n",
    "    \n",
    "    if j % 8 == 0 and j != 0:\n",
    "        i += 1\n",
    "        j = 0\n",
    "    \n",
    "    index = [\"Wake\", \"N1\", \"N2\", \"N3\", \"REM\"]\n",
    "    ax[i][j].bar(index, subj_stage[subj])\n",
    "    ax[i][j].set_title(f\"Subject {subj+1}\", size=18)\n",
    "    j+=1\n",
    "    \n",
    "plt.show()"
   ]
  },
  {
   "cell_type": "code",
   "execution_count": null,
   "metadata": {},
   "outputs": [],
   "source": [
    "fig, ax = plt.subplots(8, 4, figsize=(40, 40))\n",
    "\n",
    "j = 0\n",
    "i = 0\n",
    "\n",
    "for subj in range(len(HR)):\n",
    "    \n",
    "    if j % 4 == 0 and j != 0:\n",
    "        i += 1\n",
    "        j = 0\n",
    "    \n",
    "    ax[i][j].plot(HR[subj])\n",
    "    ax[i][j].set_title(f\"Subject {subj+1}\", size=18)\n",
    "    j+=1\n",
    "    \n",
    "plt.show()"
   ]
  },
  {
   "cell_type": "code",
   "execution_count": null,
   "metadata": {},
   "outputs": [],
   "source": [
    "fig, ax = plt.subplots(8, 4, figsize=(40, 40))\n",
    "\n",
    "j = 0\n",
    "i = 0\n",
    "\n",
    "for subj in range(len(step)):\n",
    "    \n",
    "    if j % 4 == 0 and j != 0:\n",
    "        i += 1\n",
    "        j = 0\n",
    "    \n",
    "    ax[i][j].plot(step[subj])\n",
    "    ax[i][j].set_title(f\"Subject {subj+1}\", size=18)\n",
    "    j+=1\n",
    "    \n",
    "plt.show()"
   ]
  },
  {
   "cell_type": "code",
   "execution_count": null,
   "metadata": {},
   "outputs": [],
   "source": [
    "subj_stage.sum(axis=1)"
   ]
  },
  {
   "cell_type": "code",
   "execution_count": null,
   "metadata": {},
   "outputs": [],
   "source": [
    "PATH = os.path.join(\"../data\", f\"c1_data.csv\")\n",
    "data = pd.read_csv(PATH)\n",
    "data = data"
   ]
  },
  {
   "cell_type": "code",
   "execution_count": null,
   "metadata": {},
   "outputs": [],
   "source": [
    "data.iloc[:,7]"
   ]
  },
  {
   "cell_type": "code",
   "execution_count": null,
   "metadata": {},
   "outputs": [],
   "source": [
    "def find_label_num(BASE):\n",
    "\n",
    "    if BASE == \"../data\":\n",
    "        for i in range(31):\n",
    "            \n",
    "            print(f\"Subject {i}\")\n",
    "            PATH = os.path.join(BASE, f\"c{i+1}_data.csv\")\n",
    "            data = pd.read_csv(PATH)\n",
    "            stage = data.iloc[:,7]\n",
    "            count=0\n",
    "            before_stage = 0\n",
    "            start_index = 0\n",
    "\n",
    "            for i, current_stage in enumerate(stage):\n",
    "\n",
    "                if current_stage == before_stage:\n",
    "                    count+=1\n",
    "\n",
    "                else: # 바뀔 경우\n",
    "                    if count % 30 != 0:\n",
    "                        print(f\"{before_stage} : {count} // Need to fix {30 - count%30}\")\n",
    "                        print(\"(start, finish): \",start_index, i-1)\n",
    "                        print(\"---------------\")\n",
    "                    count=1\n",
    "                    start_index = i\n",
    "                    before_stage = current_stage\n",
    "            print(\"#################################\")\n",
    "    else:\n",
    "        client_idx = [file.split(\"_\")[0] for file in os.listdir(BASE)]\n",
    "        client_idx = natsorted(client_idx)\n",
    "        for client in client_idx:\n",
    "            if \"c\" in client:\n",
    "                print(f\"Subject {client}\")\n",
    "                PATH = os.path.join(BASE, f\"{client}_data.csv\")\n",
    "                data = pd.read_csv(PATH)\n",
    "                stage = data.iloc[:,7]\n",
    "                count=0\n",
    "                before_stage = 0\n",
    "                start_index = 0\n",
    "\n",
    "                for i, current_stage in enumerate(stage):\n",
    "\n",
    "                    if current_stage == before_stage:\n",
    "                        count+=1\n",
    "\n",
    "                    else: # 바뀔 경우\n",
    "                        if count % 30 != 0:\n",
    "                            print(f\"{before_stage} : {count} // Need to fix {30 - count%30}\")\n",
    "                            print(\"(start, finish): \",start_index, i-1)\n",
    "                            print(\"---------------\")\n",
    "                        count=1\n",
    "                        start_index = i\n",
    "                        before_stage = current_stage\n",
    "                print(\"#################################\")\n",
    "        return"
   ]
  },
  {
   "cell_type": "code",
   "execution_count": null,
   "metadata": {},
   "outputs": [],
   "source": [
    "find_label_num(\"../data/padding\")"
   ]
  },
  {
   "cell_type": "code",
   "execution_count": null,
   "metadata": {},
   "outputs": [],
   "source": [
    "def pading(BASE):\n",
    "    \n",
    "    for subj in range(31):\n",
    "        print(f\"Subject {subj}\")\n",
    "        PATH = os.path.join(BASE, f\"c{subj+1}_data.csv\")\n",
    "        data = pd.read_csv(PATH)\n",
    "        stage = data.iloc[:,7]\n",
    "        count=0\n",
    "        before_stage = 0\n",
    "        start_index = 0\n",
    "\n",
    "        change_dic = {\"row\":[], \"index\":[]}\n",
    "\n",
    "        for i, current_stage in enumerate(stage):\n",
    "\n",
    "            if current_stage == before_stage:\n",
    "                count+=1\n",
    "\n",
    "            else: # 바뀔 경우\n",
    "                need_sec = 30 - count % 30\n",
    "\n",
    "                if need_sec != 30:\n",
    "                    if need_sec == 1:\n",
    "                        add_row_1 = data.iloc[i,:]\n",
    "                        add_row_2 = data.iloc[i+1,:]\n",
    "                        add_row = (add_row_1 + add_row_2) / 2\n",
    "                        change_dic[\"index\"].append(i)\n",
    "                        change_dic[\"row\"].append(add_row)\n",
    "                        # print(\"Add mean row for adding 1\", np.array(add_row).shape)\n",
    "\n",
    "                    elif need_sec == 29:\n",
    "                        change_dic[\"index\"].append(i)\n",
    "                        change_dic[\"row\"].append(0)\n",
    "                        # print(\"Drop the row\")\n",
    "\n",
    "\n",
    "                    else:\n",
    "                        row_set = []\n",
    "                        change_dic[\"index\"].append(i)\n",
    "                        for i in range(need_sec):\n",
    "                            add_row = data.iloc[start_index+i,:]\n",
    "                            row_set.append(add_row)\n",
    "                        change_dic[\"row\"].append(row_set)\n",
    "                        # print(\"Add row\", need_sec, np.array(row_set).shape)\n",
    "\n",
    "                count=1\n",
    "                start_index = i\n",
    "                before_stage = current_stage\n",
    "        \n",
    "        for index, row in zip(change_dic[\"index\"], change_dic[\"row\"]):\n",
    "            change_idx = 0\n",
    "            print(len(data))\n",
    "\n",
    "            if type(row) is int:\n",
    "                data.drop(data[data[\"Unnamed: 0\"]==index].index, axis=0, inplace=True)\n",
    "                print(\"Drop\")\n",
    "                change_idx -= 1\n",
    "\n",
    "            elif len(np.array(row).shape) == 1:\n",
    "                data = pd.concat([data.iloc[:index,:], pd.DataFrame(row, columns=data.columns), data.iloc[index:,:]], ignore_index=True, axis=0)\n",
    "                print(\"Add 1 row\")\n",
    "                change_idx += 1\n",
    "\n",
    "            elif len(np.array(row).shape) > 1:\n",
    "                for j in range(len(row)):\n",
    "                    data = pd.concat([data.iloc[:index+j+change_idx,:], row[j], data.iloc[index+j+change_idx:,:]], ignore_index=True, axis=0)\n",
    "                    change_idx += 1\n",
    "                print(f\"Add {len(row)}row\")\n",
    "            print(len(data))\n",
    "        print(\"#################################\")\n",
    "        data.reset_index(inplace=True)\n",
    "        data.drop(\"Unnamed: 0\", inplace=True, axis=1)\n",
    "        change_data = os.path.join(BASE, \"padding\", f\"c{subj+1}_data_pad.csv\")\n",
    "        data.to_csv(change_data, index=False)"
   ]
  },
  {
   "cell_type": "code",
   "execution_count": null,
   "metadata": {},
   "outputs": [],
   "source": [
    "pading(\"../data\")"
   ]
  },
  {
   "cell_type": "code",
   "execution_count": null,
   "metadata": {},
   "outputs": [],
   "source": [
    "find_label_num(\"../data/padding\")"
   ]
  },
  {
   "cell_type": "code",
   "execution_count": null,
   "metadata": {},
   "outputs": [],
   "source": []
  },
  {
   "cell_type": "code",
   "execution_count": null,
   "metadata": {},
   "outputs": [],
   "source": []
  }
 ],
 "metadata": {
  "kernelspec": {
   "display_name": "sleep",
   "language": "python",
   "name": "python3"
  },
  "language_info": {
   "codemirror_mode": {
    "name": "ipython",
    "version": 3
   },
   "file_extension": ".py",
   "mimetype": "text/x-python",
   "name": "python",
   "nbconvert_exporter": "python",
   "pygments_lexer": "ipython3",
   "version": "3.8.16"
  },
  "orig_nbformat": 4
 },
 "nbformat": 4,
 "nbformat_minor": 2
}
