{
 "cells": [
  {
   "cell_type": "code",
   "execution_count": null,
   "metadata": {},
   "outputs": [],
   "source": [
    "import os\n",
    "import sys\n",
    "\n",
    "sys.path.append(\"../\")\n",
    "\n",
    "import pandas as pd\n",
    "import numpy as np\n",
    "\n",
    "import matplotlib.pyplot as plt\n",
    "\n",
    "from utils import count_stage\n",
    "\n",
    "from natsort import natsorted"
   ]
  },
  {
   "cell_type": "code",
   "execution_count": null,
   "metadata": {},
   "outputs": [],
   "source": [
    "# files = os.listdir(\"../data/new/\")\n",
    "# files = natsorted(files)\n",
    "# origin = []\n",
    "# new = []\n",
    "# for i, file in enumerate(files):\n",
    "#     PATH = os.path.join(\"../data/new/\", file)\n",
    "#     os.rename(PATH, f\"../data/new/c{i+1}_data.csv\")\n",
    "#     origin.append(file)\n",
    "#     new.append(f\"c{i+1}\")\n",
    "\n",
    "# np.save(\"../new_client_index\", np.array([origin,new]))"
   ]
  },
  {
   "cell_type": "code",
   "execution_count": null,
   "metadata": {},
   "outputs": [],
   "source": [
    "stages = []\n",
    "HR = []\n",
    "step = []\n",
    "for i in range(31):\n",
    "    PATH = os.path.join(\"../data/new\", f\"c{i+1}_data.csv\")\n",
    "    data = pd.read_csv(PATH)\n",
    "    data = data.iloc[:,1:]\n",
    "    stages.append(data[\"psg_status\"].to_numpy())\n",
    "    HR.append(data[\"heart_rate\"].to_numpy())\n",
    "    step.append(data[\"steps\"].to_numpy())"
   ]
  },
  {
   "cell_type": "code",
   "execution_count": null,
   "metadata": {},
   "outputs": [],
   "source": [
    "subj_stage = count_stage(stages)"
   ]
  },
  {
   "cell_type": "code",
   "execution_count": null,
   "metadata": {},
   "outputs": [],
   "source": [
    "subj_stage/30"
   ]
  },
  {
   "cell_type": "code",
   "execution_count": null,
   "metadata": {},
   "outputs": [],
   "source": [
    "plt.figure(figsize=(5, 5))\n",
    "\n",
    "index = [\"Wake\", \"N1\", \"N2\", \"N3\", \"REM\"]\n",
    "\n",
    "plt.bar(index, subj_stage.T.sum(axis=1))\n",
    "plt.title(\"Total Sleep Stage\", size=18)\n",
    "plt.xlabel(\"Sleep Stage\")\n",
    "plt.ylabel(\"Number of sample (sec)\")\n",
    "plt.show()"
   ]
  },
  {
   "cell_type": "code",
   "execution_count": null,
   "metadata": {},
   "outputs": [],
   "source": [
    "fig, ax = plt.subplots(4, 8, figsize=(40, 20))\n",
    "\n",
    "j = 0\n",
    "i = 0\n",
    "\n",
    "for subj in range(len(subj_stage)):\n",
    "    \n",
    "    if j % 8 == 0 and j != 0:\n",
    "        i += 1\n",
    "        j = 0\n",
    "    \n",
    "    index = [\"Wake\", \"N1\", \"N2\", \"N3\", \"REM\"]\n",
    "    ax[i][j].bar(index, subj_stage[subj])\n",
    "    ax[i][j].set_title(f\"Subject {subj+1}\", size=18)\n",
    "    j+=1\n",
    "    \n",
    "plt.show()"
   ]
  },
  {
   "cell_type": "code",
   "execution_count": null,
   "metadata": {},
   "outputs": [],
   "source": [
    "fig, ax = plt.subplots(8, 4, figsize=(40, 40))\n",
    "\n",
    "j = 0\n",
    "i = 0\n",
    "\n",
    "for subj in range(len(HR)):\n",
    "    \n",
    "    if j % 4 == 0 and j != 0:\n",
    "        i += 1\n",
    "        j = 0\n",
    "    \n",
    "    ax[i][j].plot(HR[subj])\n",
    "    ax[i][j].set_title(f\"Subject {subj+1}\", size=18)\n",
    "    j+=1\n",
    "    \n",
    "plt.show()"
   ]
  },
  {
   "cell_type": "code",
   "execution_count": null,
   "metadata": {},
   "outputs": [],
   "source": [
    "fig, ax = plt.subplots(8, 4, figsize=(40, 40))\n",
    "\n",
    "j = 0\n",
    "i = 0\n",
    "\n",
    "for subj in range(len(step)):\n",
    "    \n",
    "    if j % 4 == 0 and j != 0:\n",
    "        i += 1\n",
    "        j = 0\n",
    "    \n",
    "    ax[i][j].plot(step[subj])\n",
    "    ax[i][j].set_title(f\"Subject {subj+1}\", size=18)\n",
    "    j+=1\n",
    "    \n",
    "plt.show()"
   ]
  },
  {
   "cell_type": "code",
   "execution_count": null,
   "metadata": {},
   "outputs": [],
   "source": [
    "subj_stage.sum(axis=1)"
   ]
  },
  {
   "cell_type": "code",
   "execution_count": null,
   "metadata": {},
   "outputs": [],
   "source": []
  },
  {
   "cell_type": "code",
   "execution_count": null,
   "metadata": {},
   "outputs": [],
   "source": []
  }
 ],
 "metadata": {
  "kernelspec": {
   "display_name": "sleep",
   "language": "python",
   "name": "python3"
  },
  "language_info": {
   "codemirror_mode": {
    "name": "ipython",
    "version": 3
   },
   "file_extension": ".py",
   "mimetype": "text/x-python",
   "name": "python",
   "nbconvert_exporter": "python",
   "pygments_lexer": "ipython3",
   "version": "3.8.16"
  },
  "orig_nbformat": 4
 },
 "nbformat": 4,
 "nbformat_minor": 2
}
