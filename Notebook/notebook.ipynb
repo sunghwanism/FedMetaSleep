{
 "cells": [
  {
   "cell_type": "code",
   "execution_count": null,
   "metadata": {},
   "outputs": [],
   "source": [
    "import os\n",
    "import sys\n",
    "\n",
    "sys.path.append(\"../\")\n",
    "\n",
    "import numpy as np\n",
    "import pandas as pd\n",
    "import matplotlib.pyplot as plt\n",
    "\n",
    "import seaborn as sns\n",
    "\n",
    "from natsort import natsorted\n",
    "\n",
    "import torch\n",
    "import random\n",
    "\n",
    "from src.Metamodel.models.depthwiseNet import DepthNet\n",
    "from src.Metamodel.data.dataloader import create_train_val_loader\n",
    "from torch.utils.data import random_split, DataLoader\n",
    "\n",
    "from sklearn.metrics import confusion_matrix, auc, roc_curve, roc_auc_score, f1_score, classification_report\n",
    "import torch.backends.cudnn as cudnn\n",
    "\n",
    "torch.manual_seed(0)\n",
    "torch.cuda.manual_seed(0)\n",
    "torch.cuda.manual_seed_all(0)\n",
    "np.random.seed(0)\n",
    "cudnn.benchmark = False\n",
    "cudnn.deterministic = True\n",
    "random.seed(0)\n",
    "np.random.seed(0)\n",
    "torch.cuda.manual_seed_all(0)\n",
    "\n",
    "from src.FedMeta.data.data_loader import applewatch"
   ]
  },
  {
   "cell_type": "code",
   "execution_count": null,
   "metadata": {},
   "outputs": [],
   "source": [
    "DATAPATH = \"../data/new\"\n",
    "device = torch.device(\"cuda:3\" if torch.cuda.is_available() else \"cpu\")\n",
    "model = DepthNet(lengths=30, patch_size=30, in_chans=2, embed_dim=256, norm_layer=None, output_dim=3).to(device)\n",
    "\n",
    "weightType = \"macro\" # macro weighted"
   ]
  },
  {
   "cell_type": "code",
   "execution_count": null,
   "metadata": {},
   "outputs": [],
   "source": [
    "clients_results_meta = []\n",
    "\n",
    "MODE = \"meta\" # \"meta\", \"normal\", \"random\"\n",
    "MODELPATH = f\"../src/FedMeta/model_file_cache/{MODE}\""
   ]
  },
  {
   "cell_type": "code",
   "execution_count": null,
   "metadata": {},
   "outputs": [],
   "source": [
    "for i in range(10):\n",
    "    PATH = os.path.join(\"../data/new\", f\"c{i+1}_data.csv\")\n",
    "    \n",
    "    generator = torch.Generator()\n",
    "    generator.manual_seed(0)\n",
    "    \n",
    "    train_dataset = applewatch(PATH=PATH, length=30)\n",
    "    train_data, test_data = torch.utils.data.random_split(train_dataset,\n",
    "                                                            [int(len(train_dataset)*0.8),\n",
    "                                                            len(train_dataset)-int(len(train_dataset)*0.8)],\n",
    "                                                            generator=generator)\n",
    "    \n",
    "    train_loader = torch.utils.data.DataLoader(\n",
    "            train_data, batch_size=32, shuffle=True, drop_last=False\n",
    "        )\n",
    "\n",
    "    test_loader = torch.utils.data.DataLoader(\n",
    "            test_data, batch_size=32, shuffle=True, drop_last=False\n",
    "        )\n",
    "        \n",
    "    labels2 = []\n",
    "\n",
    "    for data in test_loader:\n",
    "        inputs, label = data[0], data[1]\n",
    "\n",
    "        labels2.extend(label.numpy())\n",
    "    labels2 = np.array(labels2)\n",
    "    print(\"##########################\")\n",
    "    print(len(labels2[labels2 == 2]))\n",
    "    print(\"##########################\")"
   ]
  },
  {
   "cell_type": "code",
   "execution_count": null,
   "metadata": {},
   "outputs": [],
   "source": [
    "train_loader = torch.utils.data.DataLoader(\n",
    "            train_data, batch_size=32, shuffle=True, drop_last=True\n",
    "        )\n",
    "\n",
    "test_loader = torch.utils.data.DataLoader(\n",
    "            test_data, batch_size=32, shuffle=True, drop_last=True\n",
    "        )"
   ]
  },
  {
   "cell_type": "code",
   "execution_count": null,
   "metadata": {},
   "outputs": [],
   "source": [
    "labels = []\n",
    "\n",
    "for data in train_loader:\n",
    "    print(data[0].shape)\n",
    "    print(data[1].shape)\n",
    "    inputs, label = data[0], data[1]\n",
    "\n",
    "    labels.extend(label.numpy())"
   ]
  },
  {
   "cell_type": "code",
   "execution_count": null,
   "metadata": {},
   "outputs": [],
   "source": [
    "labels2 = []\n",
    "\n",
    "for data in test_loader:\n",
    "    inputs, input = data[0], data[1]\n",
    "\n",
    "    labels2.extend(label.numpy())"
   ]
  },
  {
   "cell_type": "code",
   "execution_count": null,
   "metadata": {},
   "outputs": [],
   "source": [
    "len(labels2)"
   ]
  },
  {
   "cell_type": "code",
   "execution_count": null,
   "metadata": {},
   "outputs": [],
   "source": [
    "len(labels)"
   ]
  },
  {
   "cell_type": "code",
   "execution_count": null,
   "metadata": {},
   "outputs": [],
   "source": []
  }
 ],
 "metadata": {
  "kernelspec": {
   "display_name": "sleep",
   "language": "python",
   "name": "python3"
  },
  "language_info": {
   "codemirror_mode": {
    "name": "ipython",
    "version": 3
   },
   "file_extension": ".py",
   "mimetype": "text/x-python",
   "name": "python",
   "nbconvert_exporter": "python",
   "pygments_lexer": "ipython3",
   "version": "3.8.16"
  },
  "orig_nbformat": 4
 },
 "nbformat": 4,
 "nbformat_minor": 2
}
